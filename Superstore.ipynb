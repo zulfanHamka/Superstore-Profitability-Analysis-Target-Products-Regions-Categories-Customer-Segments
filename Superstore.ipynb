{
  "nbformat": 4,
  "nbformat_minor": 0,
  "metadata": {
    "colab": {
      "provenance": [],
      "mount_file_id": "1MqJhFcbej3KEd-_iRG31SOGpY6sV_Cb6",
      "authorship_tag": "ABX9TyO2mvqeTX9yIy9b2ha5/oqn",
      "include_colab_link": true
    },
    "kernelspec": {
      "name": "python3",
      "display_name": "Python 3"
    },
    "language_info": {
      "name": "python"
    }
  },
  "cells": [
    {
      "cell_type": "markdown",
      "metadata": {
        "id": "view-in-github",
        "colab_type": "text"
      },
      "source": [
        "<a href=\"https://colab.research.google.com/github/zulfanHamka/Superstore-Profitability-Analysis-Target-Products-Regions-Categories-Customer-Segments/blob/main/Superstore.ipynb\" target=\"_parent\"><img src=\"https://colab.research.google.com/assets/colab-badge.svg\" alt=\"Open In Colab\"/></a>"
      ]
    },
    {
      "cell_type": "markdown",
      "source": [
        "#Superstore\n",
        "### 1. They would like to understand which products, regions, categories and customer segments they should target or avoid.\n",
        "\n",
        "### 2. regresi\n",
        "\n",
        "### url : https://www.kaggle.com/datasets/vivek468/superstore-dataset-final/data"
      ],
      "metadata": {
        "id": "-iVbTOeMKhyG"
      }
    },
    {
      "cell_type": "markdown",
      "source": [
        "##Data Prosessing"
      ],
      "metadata": {
        "id": "qrTaqu9WND4k"
      }
    },
    {
      "cell_type": "code",
      "source": [
        "import pandas as pd"
      ],
      "metadata": {
        "id": "xNphk-j-Ljlz"
      },
      "execution_count": 50,
      "outputs": []
    },
    {
      "cell_type": "code",
      "source": [
        "Path = '/content/drive/MyDrive/latihan/project/superstore/dataSuperstore.csv'\n",
        "df = pd.read_csv(Path, encoding = \"latin-1\")\n",
        "\n",
        "print(df.head(10))"
      ],
      "metadata": {
        "colab": {
          "base_uri": "https://localhost:8080/"
        },
        "id": "b49Nr2wAKuv8",
        "outputId": "15c6098e-4c91-4013-d169-aaaad10c505c"
      },
      "execution_count": 51,
      "outputs": [
        {
          "output_type": "stream",
          "name": "stdout",
          "text": [
            "   Row ID        Order ID  Order Date   Ship Date       Ship Mode Customer ID  \\\n",
            "0       1  CA-2016-152156   11/8/2016  11/11/2016    Second Class    CG-12520   \n",
            "1       2  CA-2016-152156   11/8/2016  11/11/2016    Second Class    CG-12520   \n",
            "2       3  CA-2016-138688   6/12/2016   6/16/2016    Second Class    DV-13045   \n",
            "3       4  US-2015-108966  10/11/2015  10/18/2015  Standard Class    SO-20335   \n",
            "4       5  US-2015-108966  10/11/2015  10/18/2015  Standard Class    SO-20335   \n",
            "5       6  CA-2014-115812    6/9/2014   6/14/2014  Standard Class    BH-11710   \n",
            "6       7  CA-2014-115812    6/9/2014   6/14/2014  Standard Class    BH-11710   \n",
            "7       8  CA-2014-115812    6/9/2014   6/14/2014  Standard Class    BH-11710   \n",
            "8       9  CA-2014-115812    6/9/2014   6/14/2014  Standard Class    BH-11710   \n",
            "9      10  CA-2014-115812    6/9/2014   6/14/2014  Standard Class    BH-11710   \n",
            "\n",
            "     Customer Name    Segment        Country             City  ...  \\\n",
            "0      Claire Gute   Consumer  United States        Henderson  ...   \n",
            "1      Claire Gute   Consumer  United States        Henderson  ...   \n",
            "2  Darrin Van Huff  Corporate  United States      Los Angeles  ...   \n",
            "3   Sean O'Donnell   Consumer  United States  Fort Lauderdale  ...   \n",
            "4   Sean O'Donnell   Consumer  United States  Fort Lauderdale  ...   \n",
            "5  Brosina Hoffman   Consumer  United States      Los Angeles  ...   \n",
            "6  Brosina Hoffman   Consumer  United States      Los Angeles  ...   \n",
            "7  Brosina Hoffman   Consumer  United States      Los Angeles  ...   \n",
            "8  Brosina Hoffman   Consumer  United States      Los Angeles  ...   \n",
            "9  Brosina Hoffman   Consumer  United States      Los Angeles  ...   \n",
            "\n",
            "  Postal Code  Region       Product ID         Category Sub-Category  \\\n",
            "0       42420   South  FUR-BO-10001798        Furniture    Bookcases   \n",
            "1       42420   South  FUR-CH-10000454        Furniture       Chairs   \n",
            "2       90036    West  OFF-LA-10000240  Office Supplies       Labels   \n",
            "3       33311   South  FUR-TA-10000577        Furniture       Tables   \n",
            "4       33311   South  OFF-ST-10000760  Office Supplies      Storage   \n",
            "5       90032    West  FUR-FU-10001487        Furniture  Furnishings   \n",
            "6       90032    West  OFF-AR-10002833  Office Supplies          Art   \n",
            "7       90032    West  TEC-PH-10002275       Technology       Phones   \n",
            "8       90032    West  OFF-BI-10003910  Office Supplies      Binders   \n",
            "9       90032    West  OFF-AP-10002892  Office Supplies   Appliances   \n",
            "\n",
            "                                        Product Name     Sales  Quantity  \\\n",
            "0                  Bush Somerset Collection Bookcase  261.9600         2   \n",
            "1  Hon Deluxe Fabric Upholstered Stacking Chairs,...  731.9400         3   \n",
            "2  Self-Adhesive Address Labels for Typewriters b...   14.6200         2   \n",
            "3      Bretford CR4500 Series Slim Rectangular Table  957.5775         5   \n",
            "4                     Eldon Fold 'N Roll Cart System   22.3680         2   \n",
            "5  Eldon Expressions Wood and Plastic Desk Access...   48.8600         7   \n",
            "6                                         Newell 322    7.2800         4   \n",
            "7                     Mitel 5320 IP Phone VoIP phone  907.1520         6   \n",
            "8  DXL Angle-View Binders with Locking Rings by S...   18.5040         3   \n",
            "9                   Belkin F5C206VTEL 6 Outlet Surge  114.9000         5   \n",
            "\n",
            "   Discount    Profit  \n",
            "0      0.00   41.9136  \n",
            "1      0.00  219.5820  \n",
            "2      0.00    6.8714  \n",
            "3      0.45 -383.0310  \n",
            "4      0.20    2.5164  \n",
            "5      0.00   14.1694  \n",
            "6      0.00    1.9656  \n",
            "7      0.20   90.7152  \n",
            "8      0.20    5.7825  \n",
            "9      0.00   34.4700  \n",
            "\n",
            "[10 rows x 21 columns]\n"
          ]
        }
      ]
    },
    {
      "cell_type": "markdown",
      "source": [
        "#### Data kosong\n",
        "\n",
        "- Tidak ada data yang null"
      ],
      "metadata": {
        "id": "51k6BHX3LLdr"
      }
    },
    {
      "cell_type": "code",
      "source": [
        "print(df.isnull().sum())\n"
      ],
      "metadata": {
        "id": "yzkppBxMMI67",
        "colab": {
          "base_uri": "https://localhost:8080/"
        },
        "outputId": "cc8d2b26-06a2-4df0-9e0d-f015fcc06580"
      },
      "execution_count": 52,
      "outputs": [
        {
          "output_type": "stream",
          "name": "stdout",
          "text": [
            "Row ID           0\n",
            "Order ID         0\n",
            "Order Date       0\n",
            "Ship Date        0\n",
            "Ship Mode        0\n",
            "Customer ID      0\n",
            "Customer Name    0\n",
            "Segment          0\n",
            "Country          0\n",
            "City             0\n",
            "State            0\n",
            "Postal Code      0\n",
            "Region           0\n",
            "Product ID       0\n",
            "Category         0\n",
            "Sub-Category     0\n",
            "Product Name     0\n",
            "Sales            0\n",
            "Quantity         0\n",
            "Discount         0\n",
            "Profit           0\n",
            "dtype: int64\n"
          ]
        }
      ]
    },
    {
      "cell_type": "code",
      "source": [
        "print(df.iloc[181])\n"
      ],
      "metadata": {
        "colab": {
          "base_uri": "https://localhost:8080/"
        },
        "id": "ifD3dRKQcT_0",
        "outputId": "0b50518c-d1d0-4b5c-fcf3-627f4fe3c44c"
      },
      "execution_count": 53,
      "outputs": [
        {
          "output_type": "stream",
          "name": "stdout",
          "text": [
            "Row ID                                                         182\n",
            "Order ID                                            CA-2014-166191\n",
            "Order Date                                               12/5/2014\n",
            "Ship Date                                                12/9/2014\n",
            "Ship Mode                                             Second Class\n",
            "Customer ID                                               DK-13150\n",
            "Customer Name                                       David Kendrick\n",
            "Segment                                                  Corporate\n",
            "Country                                              United States\n",
            "City                                                       Decatur\n",
            "State                                                     Illinois\n",
            "Postal Code                                                  62521\n",
            "Region                                                     Central\n",
            "Product ID                                         TEC-AC-10004659\n",
            "Category                                                Technology\n",
            "Sub-Category                                           Accessories\n",
            "Product Name     Imation Secure+ Hardware Encrypted USB 2.0 Fla...\n",
            "Sales                                                      408.744\n",
            "Quantity                                                         7\n",
            "Discount                                                       0.2\n",
            "Profit                                                     76.6395\n",
            "Name: 181, dtype: object\n"
          ]
        }
      ]
    },
    {
      "cell_type": "markdown",
      "source": [
        "####Data duplikat\n",
        "\n",
        "- Tidak ada data yang duplicated"
      ],
      "metadata": {
        "id": "AbucjQ1ULT0o"
      }
    },
    {
      "cell_type": "code",
      "source": [
        "df[df.duplicated()]"
      ],
      "metadata": {
        "colab": {
          "base_uri": "https://localhost:8080/",
          "height": 116
        },
        "id": "Mqd_pUpgLTbc",
        "outputId": "4ee0d259-5844-41a2-f71b-4f46ee97b48a"
      },
      "execution_count": 54,
      "outputs": [
        {
          "output_type": "execute_result",
          "data": {
            "text/plain": [
              "Empty DataFrame\n",
              "Columns: [Row ID, Order ID, Order Date, Ship Date, Ship Mode, Customer ID, Customer Name, Segment, Country, City, State, Postal Code, Region, Product ID, Category, Sub-Category, Product Name, Sales, Quantity, Discount, Profit]\n",
              "Index: []\n",
              "\n",
              "[0 rows x 21 columns]"
            ],
            "text/html": [
              "\n",
              "  <div id=\"df-8cc9741e-97b3-4c0e-8d8b-00c9754228b4\" class=\"colab-df-container\">\n",
              "    <div>\n",
              "<style scoped>\n",
              "    .dataframe tbody tr th:only-of-type {\n",
              "        vertical-align: middle;\n",
              "    }\n",
              "\n",
              "    .dataframe tbody tr th {\n",
              "        vertical-align: top;\n",
              "    }\n",
              "\n",
              "    .dataframe thead th {\n",
              "        text-align: right;\n",
              "    }\n",
              "</style>\n",
              "<table border=\"1\" class=\"dataframe\">\n",
              "  <thead>\n",
              "    <tr style=\"text-align: right;\">\n",
              "      <th></th>\n",
              "      <th>Row ID</th>\n",
              "      <th>Order ID</th>\n",
              "      <th>Order Date</th>\n",
              "      <th>Ship Date</th>\n",
              "      <th>Ship Mode</th>\n",
              "      <th>Customer ID</th>\n",
              "      <th>Customer Name</th>\n",
              "      <th>Segment</th>\n",
              "      <th>Country</th>\n",
              "      <th>City</th>\n",
              "      <th>...</th>\n",
              "      <th>Postal Code</th>\n",
              "      <th>Region</th>\n",
              "      <th>Product ID</th>\n",
              "      <th>Category</th>\n",
              "      <th>Sub-Category</th>\n",
              "      <th>Product Name</th>\n",
              "      <th>Sales</th>\n",
              "      <th>Quantity</th>\n",
              "      <th>Discount</th>\n",
              "      <th>Profit</th>\n",
              "    </tr>\n",
              "  </thead>\n",
              "  <tbody>\n",
              "  </tbody>\n",
              "</table>\n",
              "<p>0 rows × 21 columns</p>\n",
              "</div>\n",
              "    <div class=\"colab-df-buttons\">\n",
              "\n",
              "  <div class=\"colab-df-container\">\n",
              "    <button class=\"colab-df-convert\" onclick=\"convertToInteractive('df-8cc9741e-97b3-4c0e-8d8b-00c9754228b4')\"\n",
              "            title=\"Convert this dataframe to an interactive table.\"\n",
              "            style=\"display:none;\">\n",
              "\n",
              "  <svg xmlns=\"http://www.w3.org/2000/svg\" height=\"24px\" viewBox=\"0 -960 960 960\">\n",
              "    <path d=\"M120-120v-720h720v720H120Zm60-500h600v-160H180v160Zm220 220h160v-160H400v160Zm0 220h160v-160H400v160ZM180-400h160v-160H180v160Zm440 0h160v-160H620v160ZM180-180h160v-160H180v160Zm440 0h160v-160H620v160Z\"/>\n",
              "  </svg>\n",
              "    </button>\n",
              "\n",
              "  <style>\n",
              "    .colab-df-container {\n",
              "      display:flex;\n",
              "      gap: 12px;\n",
              "    }\n",
              "\n",
              "    .colab-df-convert {\n",
              "      background-color: #E8F0FE;\n",
              "      border: none;\n",
              "      border-radius: 50%;\n",
              "      cursor: pointer;\n",
              "      display: none;\n",
              "      fill: #1967D2;\n",
              "      height: 32px;\n",
              "      padding: 0 0 0 0;\n",
              "      width: 32px;\n",
              "    }\n",
              "\n",
              "    .colab-df-convert:hover {\n",
              "      background-color: #E2EBFA;\n",
              "      box-shadow: 0px 1px 2px rgba(60, 64, 67, 0.3), 0px 1px 3px 1px rgba(60, 64, 67, 0.15);\n",
              "      fill: #174EA6;\n",
              "    }\n",
              "\n",
              "    .colab-df-buttons div {\n",
              "      margin-bottom: 4px;\n",
              "    }\n",
              "\n",
              "    [theme=dark] .colab-df-convert {\n",
              "      background-color: #3B4455;\n",
              "      fill: #D2E3FC;\n",
              "    }\n",
              "\n",
              "    [theme=dark] .colab-df-convert:hover {\n",
              "      background-color: #434B5C;\n",
              "      box-shadow: 0px 1px 3px 1px rgba(0, 0, 0, 0.15);\n",
              "      filter: drop-shadow(0px 1px 2px rgba(0, 0, 0, 0.3));\n",
              "      fill: #FFFFFF;\n",
              "    }\n",
              "  </style>\n",
              "\n",
              "    <script>\n",
              "      const buttonEl =\n",
              "        document.querySelector('#df-8cc9741e-97b3-4c0e-8d8b-00c9754228b4 button.colab-df-convert');\n",
              "      buttonEl.style.display =\n",
              "        google.colab.kernel.accessAllowed ? 'block' : 'none';\n",
              "\n",
              "      async function convertToInteractive(key) {\n",
              "        const element = document.querySelector('#df-8cc9741e-97b3-4c0e-8d8b-00c9754228b4');\n",
              "        const dataTable =\n",
              "          await google.colab.kernel.invokeFunction('convertToInteractive',\n",
              "                                                    [key], {});\n",
              "        if (!dataTable) return;\n",
              "\n",
              "        const docLinkHtml = 'Like what you see? Visit the ' +\n",
              "          '<a target=\"_blank\" href=https://colab.research.google.com/notebooks/data_table.ipynb>data table notebook</a>'\n",
              "          + ' to learn more about interactive tables.';\n",
              "        element.innerHTML = '';\n",
              "        dataTable['output_type'] = 'display_data';\n",
              "        await google.colab.output.renderOutput(dataTable, element);\n",
              "        const docLink = document.createElement('div');\n",
              "        docLink.innerHTML = docLinkHtml;\n",
              "        element.appendChild(docLink);\n",
              "      }\n",
              "    </script>\n",
              "  </div>\n",
              "\n",
              "\n",
              "    </div>\n",
              "  </div>\n"
            ],
            "application/vnd.google.colaboratory.intrinsic+json": {
              "type": "dataframe"
            }
          },
          "metadata": {},
          "execution_count": 54
        }
      ]
    },
    {
      "cell_type": "code",
      "source": [
        "df.info()"
      ],
      "metadata": {
        "colab": {
          "base_uri": "https://localhost:8080/"
        },
        "id": "QRJ1hRNfMToo",
        "outputId": "5f21aeec-6379-4a6d-e203-6b6098b78639"
      },
      "execution_count": 55,
      "outputs": [
        {
          "output_type": "stream",
          "name": "stdout",
          "text": [
            "<class 'pandas.core.frame.DataFrame'>\n",
            "RangeIndex: 9994 entries, 0 to 9993\n",
            "Data columns (total 21 columns):\n",
            " #   Column         Non-Null Count  Dtype  \n",
            "---  ------         --------------  -----  \n",
            " 0   Row ID         9994 non-null   int64  \n",
            " 1   Order ID       9994 non-null   object \n",
            " 2   Order Date     9994 non-null   object \n",
            " 3   Ship Date      9994 non-null   object \n",
            " 4   Ship Mode      9994 non-null   object \n",
            " 5   Customer ID    9994 non-null   object \n",
            " 6   Customer Name  9994 non-null   object \n",
            " 7   Segment        9994 non-null   object \n",
            " 8   Country        9994 non-null   object \n",
            " 9   City           9994 non-null   object \n",
            " 10  State          9994 non-null   object \n",
            " 11  Postal Code    9994 non-null   int64  \n",
            " 12  Region         9994 non-null   object \n",
            " 13  Product ID     9994 non-null   object \n",
            " 14  Category       9994 non-null   object \n",
            " 15  Sub-Category   9994 non-null   object \n",
            " 16  Product Name   9994 non-null   object \n",
            " 17  Sales          9994 non-null   float64\n",
            " 18  Quantity       9994 non-null   int64  \n",
            " 19  Discount       9994 non-null   float64\n",
            " 20  Profit         9994 non-null   float64\n",
            "dtypes: float64(3), int64(3), object(15)\n",
            "memory usage: 1.6+ MB\n"
          ]
        }
      ]
    },
    {
      "cell_type": "markdown",
      "source": [
        "###Menghapus Beberapa colom"
      ],
      "metadata": {
        "id": "d43CnMEReqEU"
      }
    },
    {
      "cell_type": "code",
      "source": [
        "df = df.drop(columns=[\"Row ID\",\"Order ID\", \"Ship Date\", \"Ship Mode\", \"Customer ID\", \"Country\",\"City\",\"State\",\"Postal Code\",\"Product ID\",\"Sub-Category\",\"Discount\"])"
      ],
      "metadata": {
        "id": "ZJo_G-iqdqhC"
      },
      "execution_count": 56,
      "outputs": []
    },
    {
      "cell_type": "code",
      "source": [
        "df.info()"
      ],
      "metadata": {
        "colab": {
          "base_uri": "https://localhost:8080/"
        },
        "id": "BmE_6LCpeo5d",
        "outputId": "c9401d22-6210-49cd-d634-6878a9cde9cc"
      },
      "execution_count": 57,
      "outputs": [
        {
          "output_type": "stream",
          "name": "stdout",
          "text": [
            "<class 'pandas.core.frame.DataFrame'>\n",
            "RangeIndex: 9994 entries, 0 to 9993\n",
            "Data columns (total 9 columns):\n",
            " #   Column         Non-Null Count  Dtype  \n",
            "---  ------         --------------  -----  \n",
            " 0   Order Date     9994 non-null   object \n",
            " 1   Customer Name  9994 non-null   object \n",
            " 2   Segment        9994 non-null   object \n",
            " 3   Region         9994 non-null   object \n",
            " 4   Category       9994 non-null   object \n",
            " 5   Product Name   9994 non-null   object \n",
            " 6   Sales          9994 non-null   float64\n",
            " 7   Quantity       9994 non-null   int64  \n",
            " 8   Profit         9994 non-null   float64\n",
            "dtypes: float64(2), int64(1), object(6)\n",
            "memory usage: 702.8+ KB\n"
          ]
        }
      ]
    },
    {
      "cell_type": "markdown",
      "source": [
        "##EDA\n",
        "\n"
      ],
      "metadata": {
        "id": "f7qQkwzZMrE5"
      }
    },
    {
      "cell_type": "code",
      "source": [
        "# produk_qty = df[[\"Product Name\", \"Quantity\"]]\n",
        "# print(produk_qty)\n",
        "\n",
        "produk_qty = (\n",
        "    df.groupby(\"Product Name\")[[\"Sales\",\"Quantity\"]]\n",
        "    .sum()\n",
        "    .reset_index()\n",
        "    .sort_values(by=[\"Sales\",\"Quantity\"], ascending=False)\n",
        ")\n",
        "\n",
        "print(produk_qty.head(10))"
      ],
      "metadata": {
        "colab": {
          "base_uri": "https://localhost:8080/"
        },
        "id": "Sn03MNp6P9wx",
        "outputId": "96de56c8-8bdf-4a80-fc90-215e44933222"
      },
      "execution_count": 71,
      "outputs": [
        {
          "output_type": "stream",
          "name": "stdout",
          "text": [
            "                                          Product Name      Sales  Quantity\n",
            "404              Canon imageCLASS 2200 Advanced Copier  61599.824        20\n",
            "650  Fellowes PB500 Electric Punch Plastic Comb Bin...  27453.384        31\n",
            "444  Cisco TelePresence System EX90 Videoconferenci...  22638.480         6\n",
            "786       HON 5400 Series Task Chairs for Big and Tall  21870.576        39\n",
            "686         GBC DocuBind TL300 Electric Binding System  19823.479        37\n",
            "688   GBC Ibimaster 500 Manual ProClick Binding System  19024.500        48\n",
            "805               Hewlett Packard LaserJet 3310 Copier  18839.686        38\n",
            "787  HP Designjet T520 Inkjet Large Format Printer ...  18374.895        12\n",
            "683          GBC DocuBind P400 Electric Binding System  17965.068        27\n",
            "813        High Speed Automatic Electric Letter Opener  17030.312        11\n"
          ]
        }
      ]
    },
    {
      "cell_type": "markdown",
      "source": [
        "####Membandingkan Perkategori\n",
        "\n",
        "- yang laing tinggi adalah ***Technology***"
      ],
      "metadata": {
        "id": "58xVUCA2j7En"
      }
    },
    {
      "cell_type": "code",
      "source": [
        "# Kategori\n",
        "# Group by Category → hitung sum(Sales) & sum(Profit)\n",
        "# Bandingkan profit margin per kategori (Furniture, Office Supplies, Technology)\n",
        "# Insight: kategori dengan margin tinggi → fokus\n",
        "\n",
        "kategori = (\n",
        "    df.groupby(\"Category\")[[\"Sales\", \"Profit\"]]\n",
        "    .sum()\n",
        "    .reset_index()\n",
        "    )\n",
        "print(kategori)\n"
      ],
      "metadata": {
        "colab": {
          "base_uri": "https://localhost:8080/"
        },
        "id": "KLiMFMLBiUUZ",
        "outputId": "1568cc46-41b7-42a0-8461-541c993d22f8"
      },
      "execution_count": 63,
      "outputs": [
        {
          "output_type": "stream",
          "name": "stdout",
          "text": [
            "          Category        Sales       Profit\n",
            "0        Furniture  741999.7953   18451.2728\n",
            "1  Office Supplies  719047.0320  122490.8008\n",
            "2       Technology  836154.0330  145454.9481\n"
          ]
        }
      ]
    },
    {
      "cell_type": "markdown",
      "source": [
        "####Membandingkan PerRegion\n",
        "- ***West*** Paling tinggi"
      ],
      "metadata": {
        "id": "4GDTxcE1kULk"
      }
    },
    {
      "cell_type": "code",
      "source": [
        "Region = (\n",
        "    df.groupby(\"Region\")[[\"Sales\",\"Profit\"]]\n",
        "    .sum()\n",
        "    .reset_index()\n",
        "    )\n",
        "print(Region)"
      ],
      "metadata": {
        "colab": {
          "base_uri": "https://localhost:8080/"
        },
        "id": "iTlT8G_MiaH4",
        "outputId": "f643a181-5ce7-44c7-fb79-d2c05fa60dc9"
      },
      "execution_count": 64,
      "outputs": [
        {
          "output_type": "stream",
          "name": "stdout",
          "text": [
            "    Region        Sales       Profit\n",
            "0  Central  501239.8908   39706.3625\n",
            "1     East  678781.2400   91522.7800\n",
            "2    South  391721.9050   46749.4303\n",
            "3     West  725457.8245  108418.4489\n"
          ]
        }
      ]
    },
    {
      "cell_type": "markdown",
      "source": [
        "#### Perbandingan Per-Customer Segments"
      ],
      "metadata": {
        "id": "Sa_UsWMPlNAN"
      }
    },
    {
      "cell_type": "code",
      "source": [
        "Customersegment = (\n",
        "    df.groupby(\"Segment\")[[\"Sales\",\"Profit\"]]\n",
        "    .sum()\n",
        "    .reset_index()\n",
        ")\n",
        "\n",
        "print(Customersegment)"
      ],
      "metadata": {
        "colab": {
          "base_uri": "https://localhost:8080/"
        },
        "id": "KLjaj6E2lc7_",
        "outputId": "83836c2c-5718-47cb-de5b-985f7f289e86"
      },
      "execution_count": 66,
      "outputs": [
        {
          "output_type": "stream",
          "name": "stdout",
          "text": [
            "       Segment         Sales       Profit\n",
            "0     Consumer  1.161401e+06  134119.2092\n",
            "1    Corporate  7.061464e+05   91979.1340\n",
            "2  Home Office  4.296531e+05   60298.6785\n"
          ]
        }
      ]
    }
  ]
}